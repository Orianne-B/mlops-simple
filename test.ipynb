{
 "cells": [
  {
   "cell_type": "code",
   "execution_count": 2,
   "metadata": {},
   "outputs": [
    {
     "name": "stdout",
     "output_type": "stream",
     "text": [
      "Validation Accuracy: 0.93\n"
     ]
    }
   ],
   "source": [
    "import joblib\n",
    "import pathlib\n",
    "import pandas as pd\n",
    "from sklearn.metrics import accuracy_score \n",
    "\n",
    "\n",
    "root_folder = pathlib.Path(\"__file__\").resolve().parent\n",
    "\n",
    "# Load the model\n",
    "model_path = root_folder.joinpath(\"models\", \"random_forest_model.pkl\")\n",
    "model = joblib.load(model_path)\n",
    "\n",
    "# Load the validation data\n",
    "validation_df = pd.read_csv(root_folder.joinpath(\"data\", \"processed\", \"validate.csv\"), sep=\",\")\n",
    "\n",
    "x_val = validation_df.iloc[:, 1:-1]\n",
    "y_val = validation_df.iloc[:, -1]\n",
    "\n",
    "# Evaluate the model\n",
    "y_pred = model.predict(x_val)\n",
    "accuracy = accuracy_score(y_val, y_pred)\n",
    "print(f\"Validation Accuracy: {accuracy:.2f}\")\n"
   ]
  },
  {
   "cell_type": "code",
   "execution_count": 4,
   "metadata": {},
   "outputs": [
    {
     "data": {
      "text/plain": [
       "float"
      ]
     },
     "execution_count": 4,
     "metadata": {},
     "output_type": "execute_result"
    }
   ],
   "source": [
    "type(accuracy)"
   ]
  }
 ],
 "metadata": {
  "kernelspec": {
   "display_name": ".venv",
   "language": "python",
   "name": "python3"
  },
  "language_info": {
   "codemirror_mode": {
    "name": "ipython",
    "version": 3
   },
   "file_extension": ".py",
   "mimetype": "text/x-python",
   "name": "python",
   "nbconvert_exporter": "python",
   "pygments_lexer": "ipython3",
   "version": "3.10.12"
  }
 },
 "nbformat": 4,
 "nbformat_minor": 2
}
